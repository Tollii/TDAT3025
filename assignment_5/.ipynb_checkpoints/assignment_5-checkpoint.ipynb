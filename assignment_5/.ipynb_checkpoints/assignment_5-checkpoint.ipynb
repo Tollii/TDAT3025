{
 "cells": [
  {
   "cell_type": "markdown",
   "metadata": {},
   "source": [
    "\n",
    "\n",
    "### Attribute Information: (classes: edible=e, poisonous=p)\n",
    "     1. cap-shape:                bell=b,conical=c,convex=x,flat=f,\n",
    "                                  knobbed=k,sunken=s\n",
    "     2. cap-surface:              fibrous=f,grooves=g,scaly=y,smooth=s\n",
    "     3. cap-color:                brown=n,buff=b,cinnamon=c,gray=g,green=r,\n",
    "                                  pink=p,purple=u,red=e,white=w,yellow=y\n",
    "     4. bruises?:                 bruises=t,no=f\n",
    "     5. odor:                     almond=a,anise=l,creosote=c,fishy=y,foul=f,\n",
    "                                  musty=m,none=n,pungent=p,spicy=s\n",
    "     6. gill-attachment:          attached=a,descending=d,free=f,notched=n\n",
    "     7. gill-spacing:             close=c,crowded=w,distant=d\n",
    "     8. gill-size:                broad=b,narrow=n\n",
    "     9. gill-color:               black=k,brown=n,buff=b,chocolate=h,gray=g,\n",
    "                                  green=r,orange=o,pink=p,purple=u,red=e,\n",
    "                                  white=w,yellow=y\n",
    "    10. stalk-shape:              enlarging=e,tapering=t\n",
    "    11. stalk-root:               bulbous=b,club=c,cup=u,equal=e,\n",
    "                                  rhizomorphs=z,rooted=r,missing=?\n",
    "    12. stalk-surface-above-ring: fibrous=f,scaly=y,silky=k,smooth=s\n",
    "    13. stalk-surface-below-ring: fibrous=f,scaly=y,silky=k,smooth=s\n",
    "    14. stalk-color-above-ring:   brown=n,buff=b,cinnamon=c,gray=g,orange=o,\n",
    "                                  pink=p,red=e,white=w,yellow=y\n",
    "    15. stalk-color-below-ring:   brown=n,buff=b,cinnamon=c,gray=g,orange=o,\n",
    "                                  pink=p,red=e,white=w,yellow=y\n",
    "    16. veil-type:                partial=p,universal=u\n",
    "    17. veil-color:               brown=n,orange=o,white=w,yellow=y\n",
    "    18. ring-number:              none=n,one=o,two=t\n",
    "    19. ring-type:                cobwebby=c,evanescent=e,flaring=f,large=l,\n",
    "                                  none=n,pendant=p,sheathing=s,zone=z\n",
    "    20. spore-print-color:        black=k,brown=n,buff=b,chocolate=h,green=r,\n",
    "                                  orange=o,purple=u,white=w,yellow=y\n",
    "    21. population:               abundant=a,clustered=c,numerous=n,\n",
    "                                  scattered=s,several=v,solitary=y\n",
    "    22. habitat:                  grasses=g,leaves=l,meadows=m,paths=p,\n",
    "    \n",
    "### Class Distribution:\n",
    "    --    edible: 4208 (51.8%)\n",
    "    -- poisonous: 3916 (48.2%)\n",
    "    --     total: 8124 instances\n",
    "    \n",
    "\n",
    "#### https://archive.ics.uci.edu/ml/datasets/Mushroom"
   ]
  },
  {
   "cell_type": "code",
   "execution_count": 160,
   "metadata": {},
   "outputs": [
    {
     "name": "stdout",
     "output_type": "stream",
     "text": [
      "(8124, 23)\n"
     ]
    }
   ],
   "source": [
    "import pandas as pd\n",
    "\n",
    "data_folder = './data'\n",
    "names = 'edible,cap-shape,cap-surface,cap-color,bruises?,odor,gill-attachment,gill-spacing,gill-size,gill-color,stalk-shape,stalk-root,stalk-surface-above-ring,stalk-surface-below-ring,stalk-color-above-ring,stalk-color-below-ring,veil-type,veil-color,ring-number,ring-type,spore-print-color,population,habitat'.split(',')\n",
    "\n",
    "df = pd.read_csv(f'{data_folder}/agaricus.csv', encoding='utf-8', names=names, dtype=str)\n",
    "df_dummy = pd.get_dummies(df)\n",
    "print(df.shape)\n",
    "# print(df.describe())\n",
    "# print(df)\n",
    "# print(df_dummy)"
   ]
  },
  {
   "cell_type": "code",
   "execution_count": 158,
   "metadata": {},
   "outputs": [],
   "source": [
    "from pandas.plotting import scatter_matrix\n",
    "\n",
    "df_2 = df.loc[:, ['edible', 'habitat']]\n",
    "# print(df_2)\n",
    "\n",
    "df_2_dummy = pd.get_dummies(df_2)\n",
    "# print(df_2_dummy)\n",
    "\n",
    "\n",
    "\n"
   ]
  },
  {
   "cell_type": "code",
   "execution_count": 164,
   "metadata": {},
   "outputs": [
    {
     "data": {
      "text/plain": [
       "(119, 94)"
      ]
     },
     "execution_count": 164,
     "metadata": {},
     "output_type": "execute_result"
    }
   ],
   "source": [
    "from sklearn.feature_extraction.text import TfidfVectorizer, CountVectorizer\n",
    "\n",
    "vectorizer = TfidfVectorizer()\n",
    "# vectorizer = CountVectorizer()\n",
    "vectors = vectorizer.fit_transform(df_dummy)\n",
    "\n",
    "# Show the shape of the document-term matrix in format (document, word)\n",
    "vectors.shape"
   ]
  },
  {
   "cell_type": "code",
   "execution_count": 165,
   "metadata": {},
   "outputs": [
    {
     "data": {
      "text/plain": [
       "2.4584301805828717"
      ]
     },
     "execution_count": 165,
     "metadata": {},
     "output_type": "execute_result"
    }
   ],
   "source": [
    "# How sparse is the document-term matrix? (%)\n",
    "vectors.nnz / float(vectors.shape[0]*vectors.shape[1]) * 100.0"
   ]
  },
  {
   "cell_type": "code",
   "execution_count": 169,
   "metadata": {},
   "outputs": [
    {
     "name": "stdout",
     "output_type": "stream",
     "text": [
      "Index(['bruises?_f', 'bruises?_t', 'cap-color_b', 'cap-color_c', 'cap-color_e',\n",
      "       'cap-color_g', 'cap-color_n', 'cap-color_p', 'cap-color_r',\n",
      "       'cap-color_u',\n",
      "       ...\n",
      "       'stalk-surface-above-ring_y', 'stalk-surface-below-ring_f',\n",
      "       'stalk-surface-below-ring_k', 'stalk-surface-below-ring_s',\n",
      "       'stalk-surface-below-ring_y', 'veil-color_n', 'veil-color_o',\n",
      "       'veil-color_w', 'veil-color_y', 'veil-type_p'],\n",
      "      dtype='object', length=119)\n",
      "[ 22  23  12  13  14  15  16  17  18  19  20  21   2   3   4   5   6   7\n",
      "   8   9  10  11   0   1  33  34  39  40  41  42  43  44  45  46  47  48\n",
      "  49  50  37  38  35  36 112 113 114 115 116 117 118  24  25  26  27  28\n",
      "  29  30  31  32 106 107 108 109 110 111  89  90  91  92  93  94  95  96\n",
      "  97  98  99 100 101 102 103 104 105  66  67  68  69  70  71  72  73  74\n",
      "  75  76  77  78  79  80  81  82  83  53  54  55  56  57  51  52  58  59\n",
      "  60  61  62  63  64  65  85  86  87  88  84]\n"
     ]
    }
   ],
   "source": [
    "import matplotlib.pyplot as plt\n",
    "import numpy as np\n",
    "\n",
    "# Sort: indices now can be used to sort by newsgroup below\n",
    "indices = np.argsort(df_dummy.columns)\n",
    "\n",
    "# Show sorted documents\n",
    "print(df_dummy.columns[indices])\n",
    "\n",
    "# Show target classes (newsgroup, e.g., alt.atheism), sorted here\n",
    "print(indices)\n",
    "\n",
    "# # Count word frequencies throughout all documents\n",
    "# freqs = vectors[indices].sum(axis=0)\n",
    "# # Sort word frequencies\n",
    "# i = np.argsort(freqs)\n",
    "# vocab = pd.Series(vectorizer.vocabulary_)\n",
    "\n",
    "# # What is the most common word?\n",
    "# print(vocab[vocab.values==i[...,-1].item()])\n",
    "\n",
    "# # Plot document-term matrix, blue indicates non-zero value\n",
    "# plt.spy(vectors[indices], markersize=0.01)\n",
    "# fig = plt.gcf()\n",
    "# fig.set_size_inches(60,60)\n",
    "# plt.plot()\n",
    "# plt.show()"
   ]
  }
 ],
 "metadata": {
  "kernelspec": {
   "display_name": "assignment_5_env",
   "language": "python",
   "name": "assignment_5_env"
  },
  "language_info": {
   "codemirror_mode": {
    "name": "ipython",
    "version": 3
   },
   "file_extension": ".py",
   "mimetype": "text/x-python",
   "name": "python",
   "nbconvert_exporter": "python",
   "pygments_lexer": "ipython3",
   "version": "3.8.5"
  }
 },
 "nbformat": 4,
 "nbformat_minor": 4
}
